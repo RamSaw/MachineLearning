{
 "cells": [
  {
   "cell_type": "markdown",
   "metadata": {},
   "source": [
    "# HW04\n",
    "# Student: Pravilov Mikhail"
   ]
  },
  {
   "cell_type": "code",
   "execution_count": 121,
   "metadata": {},
   "outputs": [],
   "source": [
    "import numpy as np\n",
    "import pandas as pd\n",
    "import matplotlib.pyplot as plt\n",
    "from sklearn.model_selection import train_test_split\n",
    "from sklearn.preprocessing import PolynomialFeatures\n",
    "from sklearn.metrics import r2_score\n",
    "\n",
    "global_random_seed = 4526\n",
    "np.random.seed(global_random_seed)\n",
    "dataset_root=\"../Datasets/\""
   ]
  },
  {
   "cell_type": "markdown",
   "metadata": {},
   "source": [
    "# Regression"
   ]
  },
  {
   "cell_type": "markdown",
   "metadata": {},
   "source": [
    "Datasets: noisysine.csv, hydrodynamics.csv. Both should be split into train and validate datasets (80% / 20%).\n",
    "\n",
    "In every task, you need to calculate the R2 score (for both datasets) and draw the resulting function on the noisysine dataset."
   ]
  },
  {
   "cell_type": "code",
   "execution_count": 122,
   "metadata": {},
   "outputs": [
    {
     "name": "stdout",
     "output_type": "stream",
     "text": [
      "noisysine datapoints shape: (40, 1)\n",
      "noisysine labels shape: (40,)\n"
     ]
    }
   ],
   "source": [
    "# noisysine.csv loading\n",
    "noisysine_path = dataset_root + 'noisysine.csv'\n",
    "noisysine_data = pd.read_csv(noisysine_path)\n",
    "noisysine_data = noisysine_data.values\n",
    "noisysine_X = noisysine_data[:, 0:-1].astype('float64')\n",
    "noisysine_y = noisysine_data[:, -1]\n",
    "print(\"noisysine datapoints shape: \" + str(noisysine_X.shape))\n",
    "print(\"noisysine labels shape: \" + str(noisysine_y.shape))"
   ]
  },
  {
   "cell_type": "code",
   "execution_count": 126,
   "metadata": {},
   "outputs": [
    {
     "name": "stdout",
     "output_type": "stream",
     "text": [
      "hydrodynamics datapoints shape: (308, 6)\n",
      "hydrodynamics labels shape: (308,)\n"
     ]
    }
   ],
   "source": [
    "# hydrodynamics.csv loading\n",
    "hydrodynamics_path = dataset_root + 'hydrodynamics.csv'\n",
    "hydrodynamics_data = pd.read_csv(hydrodynamics_path)\n",
    "hydrodynamics_data = hydrodynamics_data.values\n",
    "hydrodynamics_X = hydrodynamics_data[:, 0:-1].astype('float64')\n",
    "hydrodynamics_y = hydrodynamics_data[:, -1]\n",
    "print(\"hydrodynamics datapoints shape: \" + str(hydrodynamics_X.shape))\n",
    "print(\"hydrodynamics labels shape: \" + str(hydrodynamics_y.shape))"
   ]
  },
  {
   "cell_type": "code",
   "execution_count": 127,
   "metadata": {},
   "outputs": [],
   "source": [
    "val_size=0.2\n",
    "np.random.seed(global_random_seed)\n",
    "noisysine_X_train, noisysine_X_val, noisysine_y_train, noisysine_y_val = train_test_split(noisysine_X, noisysine_y,\n",
    "                                                    random_state=global_random_seed,\n",
    "                                                    test_size=val_size)\n",
    "hydrodynamics_X_train, hydrodynamics_X_val, hydrodynamics_y_train, hydrodynamics_y_val = \\\n",
    "                    train_test_split(hydrodynamics_X, hydrodynamics_y,\n",
    "                                                    random_state=global_random_seed,\n",
    "                                                    test_size=val_size)"
   ]
  },
  {
   "cell_type": "code",
   "execution_count": 128,
   "metadata": {},
   "outputs": [],
   "source": [
    "def r2_score_impl(y_true, y_pred):\n",
    "    y_mean = np.full(y_true.shape, y_true.mean())\n",
    "    return 1 - ((y_pred - y_true) ** 2).sum() / ((y_mean - y_true) ** 2).sum()"
   ]
  },
  {
   "cell_type": "code",
   "execution_count": 129,
   "metadata": {},
   "outputs": [],
   "source": [
    "def draw_resulting_function(X_val, y_val, y_pred, degree, heading):\n",
    "    plt.scatter(X_val, y_val,  color='black')\n",
    "    sorted_args = np.argsort(X_val, axis=0)\n",
    "    plt.plot(X_val[sorted_args].reshape(X_val.shape), y_pred[sorted_args].reshape(y_pred.shape), color='blue', linewidth=3)\n",
    "\n",
    "    plt.xticks(())\n",
    "    plt.yticks(())\n",
    "    plt.title(heading + \" Degree = \" + str(degree))\n",
    "    plt.show()"
   ]
  },
  {
   "cell_type": "code",
   "execution_count": 130,
   "metadata": {},
   "outputs": [],
   "source": [
    "class LinearRegression:\n",
    "    def fit(self, X, y):\n",
    "        self.w = np.linalg.inv(np.transpose(X) @ X) @ np.transpose(X) @ y\n",
    "    \n",
    "    def predict(self, X):\n",
    "        return X @ self.w"
   ]
  },
  {
   "cell_type": "code",
   "execution_count": 163,
   "metadata": {},
   "outputs": [],
   "source": [
    "def train_regression_and_print_results(X_train, X_val, y_train, y_val, degree, draw_graph, heading, regression):\n",
    "    poly = PolynomialFeatures(degree=degree)\n",
    "    X_train = poly.fit_transform(X_train)\n",
    "    X_val_transformed = poly.fit_transform(X_val)\n",
    "\n",
    "    regression.fit(X_train, y_train)\n",
    "    y_pred = regression.predict(X_val_transformed)\n",
    "    r2_score = r2_score_impl(y_val, y_pred)\n",
    "    print(heading + \" Degree = \" + str(degree) + \". R2 score: \" + str(r2_score))\n",
    "    if draw_graph:\n",
    "        draw_resulting_function(X_val, y_val, y_pred, degree, heading)\n",
    "    return r2_score"
   ]
  },
  {
   "cell_type": "markdown",
   "metadata": {},
   "source": [
    "1.       (3) Implement linear and polynomial regression algorithms (for noisysine use the powers from 2 to 5, for hydrodynamics use the power of 2). No regularization. "
   ]
  },
  {
   "cell_type": "code",
   "execution_count": 142,
   "metadata": {},
   "outputs": [
    {
     "name": "stdout",
     "output_type": "stream",
     "text": [
      "noisysine. Degree = 1. R2 score: -0.20769276008730442\n"
     ]
    },
    {
     "data": {
      "image/png": "[encoded data removed]",
      "text/plain": [
       "<Figure size 432x288 with 1 Axes>"
      ]
     },
     "metadata": {},
     "output_type": "display_data"
    },
    {
     "name": "stdout",
     "output_type": "stream",
     "text": [
      "noisysine. Degree = 2. R2 score: -0.31762413696215264\n"
     ]
    },
    {
     "data": {
      "image/png": "[encoded data removed]",
      "text/plain": [
       "<Figure size 432x288 with 1 Axes>"
      ]
     },
     "metadata": {},
     "output_type": "display_data"
    },
    {
     "name": "stdout",
     "output_type": "stream",
     "text": [
      "noisysine. Degree = 3. R2 score: -0.06869532201906758\n"
     ]
    },
    {
     "data": {
      "image/png": "[encoded data removed]",
      "text/plain": [
       "<Figure size 432x288 with 1 Axes>"
      ]
     },
     "metadata": {},
     "output_type": "display_data"
    },
    {
     "name": "stdout",
     "output_type": "stream",
     "text": [
      "noisysine. Degree = 4. R2 score: -0.06789048544834175\n"
     ]
    },
    {
     "data": {
      "image/png": "[encoded data removed]",
      "text/plain": [
       "<Figure size 432x288 with 1 Axes>"
      ]
     },
     "metadata": {},
     "output_type": "display_data"
    },
    {
     "name": "stdout",
     "output_type": "stream",
     "text": [
      "noisysine. Degree = 5. R2 score: 0.8250760122156561\n"
     ]
    },
    {
     "data": {
      "image/png": "[encoded data removed]",
      "text/plain": [
       "<Figure size 432x288 with 1 Axes>"
      ]
     },
     "metadata": {},
     "output_type": "display_data"
    }
   ],
   "source": [
    "noisysine_degrees = [1, 2, 3, 4, 5]\n",
    "for degree in noisysine_degrees:\n",
    "    train_regression_and_print_results(noisysine_X_train, noisysine_X_val, noisysine_y_train, noisysine_y_val, \n",
    "                                       degree, True, \"noisysine.\", LinearRegression())"
   ]
  },
  {
   "cell_type": "code",
   "execution_count": 145,
   "metadata": {},
   "outputs": [
    {
     "name": "stdout",
     "output_type": "stream",
     "text": [
      "hydrodynamics. Degree = 1. R2 score: 0.6059339104296214\n",
      "hydrodynamics. Degree = 2. R2 score: 0.9009525944306158\n"
     ]
    }
   ],
   "source": [
    "hydrodynamics_degrees = [1, 2]\n",
    "for degree in hydrodynamics_degrees:\n",
    "    train_regression_and_print_results(hydrodynamics_X_train, hydrodynamics_X_val, hydrodynamics_y_train, hydrodynamics_y_val, \n",
    "                                       degree, False, \"hydrodynamics.\", LinearRegression())"
   ]
  },
  {
   "cell_type": "markdown",
   "metadata": {},
   "source": [
    "2.       (2) Implement a ridge regression algorithm and optimize the regularization parameter for every case from task #1."
   ]
  },
  {
   "cell_type": "code",
   "execution_count": 176,
   "metadata": {},
   "outputs": [],
   "source": [
    "class RidgeRegression:\n",
    "    def __init__(self, alpha):\n",
    "        self.alpha = alpha\n",
    "        \n",
    "    def fit(self, X, y):\n",
    "        self.w = np.linalg.inv(np.transpose(X) @ X + self.alpha * np.identity(X.shape[1])) @ np.transpose(X) @ y\n",
    "    \n",
    "    def predict(self, X):\n",
    "        return X @ self.w"
   ]
  },
  {
   "cell_type": "code",
   "execution_count": 186,
   "metadata": {},
   "outputs": [],
   "source": [
    "def optimize_ridge_regularization_parameter(X_train, X_val, y_train, y_val, degree, draw_graph, heading):\n",
    "    alphas = [1 / 10 ** i for i in range(11)]\n",
    "    r2_scores = np.empty((11,))\n",
    "    for i, alpha in enumerate(alphas):\n",
    "        regressor = RidgeRegression(alpha=alpha)\n",
    "        print(str(i) + \". Alpha = \" + str(alpha))\n",
    "        r2_scores[i] = train_regression_and_print_results(X_train, X_val, y_train, y_val, degree, False, heading, regressor)\n",
    "    best_score = np.max(r2_scores)\n",
    "    best_alpha = alphas[np.argmax(r2_scores)]\n",
    "    if draw_graph:\n",
    "        regressor = RidgeRegression(alpha=best_alpha)\n",
    "        train_regression_and_print_results(X_train, X_val, y_train, y_val, degree, True, heading, regressor)\n",
    "    print(\"Best score = \" + str(best_score) + \" Best alpha = \" + str(best_alpha))"
   ]
  },
  {
   "cell_type": "code",
   "execution_count": 187,
   "metadata": {},
   "outputs": [
    {
     "name": "stdout",
     "output_type": "stream",
     "text": [
      "0. Alpha = 1.0\n",
      "noisysine. Degree = 1. R2 score: -0.22421769561748994\n",
      "1. Alpha = 0.1\n",
      "noisysine. Degree = 1. R2 score: -0.20944498862579697\n",
      "2. Alpha = 0.01\n",
      "noisysine. Degree = 1. R2 score: -0.2078690192075956\n",
      "3. Alpha = 0.001\n",
      "noisysine. Degree = 1. R2 score: -0.20771039639741318\n",
      "4. Alpha = 0.0001\n",
      "noisysine. Degree = 1. R2 score: -0.2076945238223309\n",
      "5. Alpha = 1e-05\n",
      "noisysine. Degree = 1. R2 score: -0.20769293646184694\n",
      "6. Alpha = 1e-06\n",
      "noisysine. Degree = 1. R2 score: -0.20769277772476857\n",
      "7. Alpha = 1e-07\n",
      "noisysine. Degree = 1. R2 score: -0.20769276185105068\n",
      "8. Alpha = 1e-08\n",
      "noisysine. Degree = 1. R2 score: -0.2076927602636789\n",
      "9. Alpha = 1e-09\n",
      "noisysine. Degree = 1. R2 score: -0.20769276010494164\n",
      "10. Alpha = 1e-10\n",
      "noisysine. Degree = 1. R2 score: -0.20769276008906812\n",
      "noisysine. Degree = 1. R2 score: -0.20769276008906812\n"
     ]
    },
    {
     "data": {
      "image/png": "[encoded data removed]",
      "text/plain": [
       "<Figure size 432x288 with 1 Axes>"
      ]
     },
     "metadata": {},
     "output_type": "display_data"
    },
    {
     "name": "stdout",
     "output_type": "stream",
     "text": [
      "Best score = -0.20769276008906812 Best alpha = 1e-10\n",
      "=====\n",
      "0. Alpha = 1.0\n",
      "noisysine. Degree = 2. R2 score: -0.29497732295197854\n",
      "1. Alpha = 0.1\n",
      "noisysine. Degree = 2. R2 score: -0.3144303627239913\n",
      "2. Alpha = 0.01\n",
      "noisysine. Degree = 2. R2 score: -0.317292066608561\n",
      "3. Alpha = 0.001\n",
      "noisysine. Degree = 2. R2 score: -0.3175907984630777\n",
      "4. Alpha = 0.0001\n",
      "noisysine. Degree = 2. R2 score: -0.31762080179291585\n",
      "5. Alpha = 1e-05\n",
      "noisysine. Degree = 2. R2 score: -0.31762380343202623\n",
      "6. Alpha = 1e-06\n",
      "noisysine. Degree = 2. R2 score: -0.3176241036090024\n",
      "7. Alpha = 1e-07\n",
      "noisysine. Degree = 2. R2 score: -0.31762413362682995\n",
      "8. Alpha = 1e-08\n",
      "noisysine. Degree = 2. R2 score: -0.31762413662861566\n",
      "9. Alpha = 1e-09\n",
      "noisysine. Degree = 2. R2 score: -0.3176241369288004\n",
      "10. Alpha = 1e-10\n",
      "noisysine. Degree = 2. R2 score: -0.31762413695881286\n",
      "noisysine. Degree = 2. R2 score: -0.29497732295197854\n"
     ]
    },
    {
     "data": {
      "image/png": "[encoded data removed]",
      "text/plain": [
       "<Figure size 432x288 with 1 Axes>"
      ]
     },
     "metadata": {},
     "output_type": "display_data"
    },
    {
     "name": "stdout",
     "output_type": "stream",
     "text": [
      "Best score = -0.29497732295197854 Best alpha = 1.0\n",
      "=====\n",
      "0. Alpha = 1.0\n",
      "noisysine. Degree = 3. R2 score: -0.09806362183496331\n",
      "1. Alpha = 0.1\n",
      "noisysine. Degree = 3. R2 score: -0.0712762358747907\n",
      "2. Alpha = 0.01\n",
      "noisysine. Degree = 3. R2 score: -0.0689424888412491\n",
      "3. Alpha = 0.001\n",
      "noisysine. Degree = 3. R2 score: -0.06871991660999166\n",
      "4. Alpha = 0.0001\n",
      "noisysine. Degree = 3. R2 score: -0.06869778024356821\n",
      "5. Alpha = 1e-05\n",
      "noisysine. Degree = 3. R2 score: -0.06869556782918385\n",
      "6. Alpha = 1e-06\n",
      "noisysine. Degree = 3. R2 score: -0.06869534660001597\n",
      "7. Alpha = 1e-07\n",
      "noisysine. Degree = 3. R2 score: -0.06869532447717908\n",
      "8. Alpha = 1e-08\n",
      "noisysine. Degree = 3. R2 score: -0.06869532226488917\n",
      "9. Alpha = 1e-09\n",
      "noisysine. Degree = 3. R2 score: -0.06869532204371254\n",
      "10. Alpha = 1e-10\n",
      "noisysine. Degree = 3. R2 score: -0.06869532202153605\n",
      "noisysine. Degree = 3. R2 score: -0.06869532202153605\n"
     ]
    },
    {
     "data": {
      "image/png": "[encoded data removed]",
      "text/plain": [
       "<Figure size 432x288 with 1 Axes>"
      ]
     },
     "metadata": {},
     "output_type": "display_data"
    },
    {
     "name": "stdout",
     "output_type": "stream",
     "text": [
      "Best score = -0.06869532202153605 Best alpha = 1e-10\n",
      "=====\n",
      "0. Alpha = 1.0\n",
      "noisysine. Degree = 4. R2 score: -0.1976071266158399\n",
      "1. Alpha = 0.1\n",
      "noisysine. Degree = 4. R2 score: -0.08619592485148653\n",
      "2. Alpha = 0.01\n",
      "noisysine. Degree = 4. R2 score: -0.0697966639451022\n",
      "3. Alpha = 0.001\n",
      "noisysine. Degree = 4. R2 score: -0.06808188979705454\n",
      "4. Alpha = 0.0001\n",
      "noisysine. Degree = 4. R2 score: -0.06790963377826009\n",
      "5. Alpha = 1e-05\n",
      "noisysine. Degree = 4. R2 score: -0.06789240035990995\n",
      "6. Alpha = 1e-06\n",
      "noisysine. Degree = 4. R2 score: -0.06789067694102169\n",
      "7. Alpha = 1e-07\n",
      "noisysine. Degree = 4. R2 score: -0.06789050459771984\n",
      "8. Alpha = 1e-08\n",
      "noisysine. Degree = 4. R2 score: -0.06789048736385883\n",
      "9. Alpha = 1e-09\n",
      "noisysine. Degree = 4. R2 score: -0.06789048563992095\n",
      "10. Alpha = 1e-10\n",
      "noisysine. Degree = 4. R2 score: -0.06789048546807375\n",
      "noisysine. Degree = 4. R2 score: -0.06789048546807375\n"
     ]
    },
    {
     "data": {
      "image/png": "[encoded data removed]",
      "text/plain": [
       "<Figure size 432x288 with 1 Axes>"
      ]
     },
     "metadata": {},
     "output_type": "display_data"
    },
    {
     "name": "stdout",
     "output_type": "stream",
     "text": [
      "Best score = -0.06789048546807375 Best alpha = 1e-10\n",
      "=====\n",
      "0. Alpha = 1.0\n",
      "noisysine. Degree = 5. R2 score: 0.8112686053718534\n",
      "1. Alpha = 0.1\n",
      "noisysine. Degree = 5. R2 score: 0.8236411814950584\n",
      "2. Alpha = 0.01\n",
      "noisysine. Degree = 5. R2 score: 0.8249312015628266\n",
      "3. Alpha = 0.001\n",
      "noisysine. Degree = 5. R2 score: 0.8250615165182107\n",
      "4. Alpha = 0.0001\n",
      "noisysine. Degree = 5. R2 score: 0.8250745624951215\n",
      "5. Alpha = 1e-05\n",
      "noisysine. Degree = 5. R2 score: 0.8250758672253382\n",
      "6. Alpha = 1e-06\n",
      "noisysine. Degree = 5. R2 score: 0.8250759976847573\n",
      "7. Alpha = 1e-07\n",
      "noisysine. Degree = 5. R2 score: 0.8250760107394997\n",
      "8. Alpha = 1e-08\n",
      "noisysine. Degree = 5. R2 score: 0.8250760120436609\n",
      "9. Alpha = 1e-09\n",
      "noisysine. Degree = 5. R2 score: 0.8250760122079319\n",
      "10. Alpha = 1e-10\n",
      "noisysine. Degree = 5. R2 score: 0.8250760121985992\n",
      "noisysine. Degree = 5. R2 score: 0.8250760122079319\n"
     ]
    },
    {
     "data": {
      "image/png": "[encoded data removed]",
      "text/plain": [
       "<Figure size 432x288 with 1 Axes>"
      ]
     },
     "metadata": {},
     "output_type": "display_data"
    },
    {
     "name": "stdout",
     "output_type": "stream",
     "text": [
      "Best score = 0.8250760122079319 Best alpha = 1e-09\n",
      "=====\n"
     ]
    }
   ],
   "source": [
    "noisysine_degrees = [1, 2, 3, 4, 5]\n",
    "for degree in noisysine_degrees:\n",
    "    optimize_ridge_regularization_parameter(noisysine_X_train, noisysine_X_val, noisysine_y_train, noisysine_y_val, \n",
    "                                       degree, True, \"noisysine.\")\n",
    "    print(\"=====\")"
   ]
  },
  {
   "cell_type": "code",
   "execution_count": 178,
   "metadata": {},
   "outputs": [
    {
     "name": "stdout",
     "output_type": "stream",
     "text": [
      "0. Alpha = 1.0\n",
      "hydrodynamics. Degree = 1. R2 score: 0.5891340849103469\n",
      "1. Alpha = 0.1\n",
      "hydrodynamics. Degree = 1. R2 score: 0.6116654486366047\n",
      "2. Alpha = 0.01\n",
      "hydrodynamics. Degree = 1. R2 score: 0.606771328338455\n",
      "3. Alpha = 0.001\n",
      "hydrodynamics. Degree = 1. R2 score: 0.6060259184419736\n",
      "4. Alpha = 0.0001\n",
      "hydrodynamics. Degree = 1. R2 score: 0.6059432252641732\n",
      "5. Alpha = 1e-05\n",
      "hydrodynamics. Degree = 1. R2 score: 0.6059348430992559\n",
      "6. Alpha = 1e-06\n",
      "hydrodynamics. Degree = 1. R2 score: 0.6059340037088661\n",
      "7. Alpha = 1e-07\n",
      "hydrodynamics. Degree = 1. R2 score: 0.6059339197574996\n",
      "8. Alpha = 1e-08\n",
      "hydrodynamics. Degree = 1. R2 score: 0.6059339113618833\n",
      "9. Alpha = 1e-09\n",
      "hydrodynamics. Degree = 1. R2 score: 0.6059339105226882\n",
      "10. Alpha = 1e-10\n",
      "hydrodynamics. Degree = 1. R2 score: 0.6059339104387385\n",
      "Best score = 0.6116654486366047 Best alpha = 0.1\n",
      "=====\n",
      "0. Alpha = 1.0\n",
      "hydrodynamics. Degree = 2. R2 score: 0.6146980593266171\n",
      "1. Alpha = 0.1\n",
      "hydrodynamics. Degree = 2. R2 score: 0.6950610687125593\n",
      "2. Alpha = 0.01\n",
      "hydrodynamics. Degree = 2. R2 score: 0.8755243317653463\n",
      "3. Alpha = 0.001\n",
      "hydrodynamics. Degree = 2. R2 score: 0.9076571999402366\n",
      "4. Alpha = 0.0001\n",
      "hydrodynamics. Degree = 2. R2 score: 0.9038947125992668\n",
      "5. Alpha = 1e-05\n",
      "hydrodynamics. Degree = 2. R2 score: 0.9022603898483326\n",
      "6. Alpha = 1e-06\n",
      "hydrodynamics. Degree = 2. R2 score: 0.9018156173597298\n",
      "7. Alpha = 1e-07\n",
      "hydrodynamics. Degree = 2. R2 score: 0.9016551477569383\n",
      "8. Alpha = 1e-08\n",
      "hydrodynamics. Degree = 2. R2 score: 0.9013705502740411\n",
      "9. Alpha = 1e-09\n",
      "hydrodynamics. Degree = 2. R2 score: 0.9010389851838321\n",
      "10. Alpha = 1e-10\n",
      "hydrodynamics. Degree = 2. R2 score: 0.9009613351594035\n",
      "Best score = 0.9076571999402366 Best alpha = 0.001\n",
      "=====\n"
     ]
    }
   ],
   "source": [
    "hydrodynamics_degrees = [1, 2]\n",
    "for degree in hydrodynamics_degrees:\n",
    "    optimize_ridge_regularization_parameter(hydrodynamics_X_train, hydrodynamics_X_val, hydrodynamics_y_train, hydrodynamics_y_val, \n",
    "                                       degree, False, \"hydrodynamics.\")\n",
    "    print(\"=====\")"
   ]
  },
  {
   "cell_type": "markdown",
   "metadata": {},
   "source": [
    "3.       (3) Use the LASSO regression algorithm (i.e., from the sklearn package) and optimize regularization parameters for every case from task #1. Output the number of used features."
   ]
  },
  {
   "cell_type": "code",
   "execution_count": 227,
   "metadata": {},
   "outputs": [],
   "source": [
    "def optimize_lasso_regularization_parameter(X_train, X_val, y_train, y_val, degree, draw_graph, heading):\n",
    "    from sklearn import linear_model\n",
    "    number_of_alphas = 11\n",
    "    alphas = [1 / 10 ** i for i in range(number_of_alphas)]\n",
    "    r2_scores = np.empty((number_of_alphas,))\n",
    "    for i, alpha in enumerate(alphas):\n",
    "        regressor = linear_model.Lasso(alpha=alpha, max_iter=10000)\n",
    "        print(str(i) + \". Alpha = \" + str(alpha))\n",
    "        r2_scores[i] = train_regression_and_print_results(X_train, X_val, y_train, y_val, degree, False, heading, regressor)\n",
    "    best_score = np.max(r2_scores)\n",
    "    best_alpha = alphas[np.argmax(r2_scores)]\n",
    "    best_regressor = linear_model.Lasso(alpha=best_alpha)\n",
    "    train_regression_and_print_results(X_train, X_val, y_train, y_val, degree, draw_graph, heading, best_regressor)    \n",
    "    print(\"Best score = \" + str(best_score) + \" Best alpha = \" + str(best_alpha) + \" Number of used features = \" + str((best_regressor.coef_ != 0).sum()))"
   ]
  },
  {
   "cell_type": "code",
   "execution_count": 228,
   "metadata": {},
   "outputs": [
    {
     "name": "stdout",
     "output_type": "stream",
     "text": [
      "0. Alpha = 1.0\n",
      "noisysine. Degree = 1. R2 score: -0.18837184346659996\n",
      "1. Alpha = 0.1\n",
      "noisysine. Degree = 1. R2 score: -0.20466900326884074\n",
      "2. Alpha = 0.01\n",
      "noisysine. Degree = 1. R2 score: -0.20737946775389404\n",
      "3. Alpha = 0.001\n",
      "noisysine. Degree = 1. R2 score: -0.2076613216874479\n",
      "4. Alpha = 0.0001\n",
      "noisysine. Degree = 1. R2 score: -0.20768961515565332\n",
      "5. Alpha = 1e-05\n",
      "noisysine. Degree = 1. R2 score: -0.20769244558322253\n",
      "6. Alpha = 1e-06\n",
      "noisysine. Degree = 1. R2 score: -0.2076927286367869\n",
      "7. Alpha = 1e-07\n",
      "noisysine. Degree = 1. R2 score: -0.20769275694225153\n",
      "8. Alpha = 1e-08\n",
      "noisysine. Degree = 1. R2 score: -0.2076927597727991\n",
      "9. Alpha = 1e-09\n",
      "noisysine. Degree = 1. R2 score: -0.20769276005585402\n",
      "10. Alpha = 1e-10\n",
      "noisysine. Degree = 1. R2 score: -0.20769276008415893\n",
      "noisysine. Degree = 1. R2 score: -0.18837184346659996\n"
     ]
    },
    {
     "data": {
      "image/png": "[encoded data removed]",
      "text/plain": [
       "<Figure size 432x288 with 1 Axes>"
      ]
     },
     "metadata": {},
     "output_type": "display_data"
    },
    {
     "name": "stdout",
     "output_type": "stream",
     "text": [
      "Best score = -0.18837184346659996 Best alpha = 1.0 Number of used features = 1\n",
      "=====\n",
      "0. Alpha = 1.0\n",
      "noisysine. Degree = 2. R2 score: -0.14957065469202568\n",
      "1. Alpha = 0.1\n",
      "noisysine. Degree = 2. R2 score: -0.2696562705616803\n",
      "2. Alpha = 0.01\n",
      "noisysine. Degree = 2. R2 score: -0.3124677469145445\n",
      "3. Alpha = 0.001\n",
      "noisysine. Degree = 2. R2 score: -0.31710512669617197\n",
      "4. Alpha = 0.0001\n",
      "noisysine. Degree = 2. R2 score: -0.31757220820952736\n",
      "5. Alpha = 1e-05\n",
      "noisysine. Degree = 2. R2 score: -0.3176189444042148\n",
      "6. Alpha = 1e-06\n",
      "noisysine. Degree = 2. R2 score: -0.31762361776848014\n",
      "7. Alpha = 1e-07\n",
      "noisysine. Degree = 2. R2 score: -0.31762408504924955\n",
      "8. Alpha = 1e-08\n",
      "noisysine. Degree = 2. R2 score: -0.31762413177150206\n",
      "9. Alpha = 1e-09\n",
      "noisysine. Degree = 2. R2 score: -0.317624136443148\n",
      "10. Alpha = 1e-10\n",
      "noisysine. Degree = 2. R2 score: -0.31762413691020686\n",
      "noisysine. Degree = 2. R2 score: -0.14957065469202568\n"
     ]
    },
    {
     "data": {
      "image/png": "[encoded data removed]",
      "text/plain": [
       "<Figure size 432x288 with 1 Axes>"
      ]
     },
     "metadata": {},
     "output_type": "display_data"
    },
    {
     "name": "stdout",
     "output_type": "stream",
     "text": [
      "Best score = -0.14957065469202568 Best alpha = 1.0 Number of used features = 1\n",
      "=====\n",
      "0. Alpha = 1.0\n",
      "noisysine. Degree = 3. R2 score: -0.20834375157238028\n",
      "1. Alpha = 0.1\n",
      "noisysine. Degree = 3. R2 score: -0.10442041161184057\n",
      "2. Alpha = 0.01\n",
      "noisysine. Degree = 3. R2 score: -0.07158773481287106\n",
      "3. Alpha = 0.001\n",
      "noisysine. Degree = 3. R2 score: -0.06897788975392372\n",
      "4. Alpha = 0.0001\n",
      "noisysine. Degree = 3. R2 score: -0.0687235124329475\n",
      "5. Alpha = 1e-05\n",
      "noisysine. Degree = 3. R2 score: -0.06869814040001865\n",
      "6. Alpha = 1e-06\n",
      "noisysine. Degree = 3. R2 score: -0.06869560385086082\n",
      "7. Alpha = 1e-07\n",
      "noisysine. Degree = 3. R2 score: -0.06869535020207929\n",
      "8. Alpha = 1e-08\n",
      "noisysine. Degree = 3. R2 score: -0.06869532483738428\n",
      "9. Alpha = 1e-09\n",
      "noisysine. Degree = 3. R2 score: -0.068695322300937\n",
      "10. Alpha = 1e-10\n",
      "noisysine. Degree = 3. R2 score: -0.06869532204762119\n",
      "noisysine. Degree = 3. R2 score: -0.07840141476485107\n"
     ]
    },
    {
     "name": "stderr",
     "output_type": "stream",
     "text": [
      "/home/mikhail/anaconda3/envs/ml/lib/python3.6/site-packages/sklearn/linear_model/coordinate_descent.py:492: ConvergenceWarning: Objective did not converge. You might want to increase the number of iterations. Fitting data with very small alpha may cause precision problems.\n",
      "  ConvergenceWarning)\n",
      "/home/mikhail/anaconda3/envs/ml/lib/python3.6/site-packages/sklearn/linear_model/coordinate_descent.py:492: ConvergenceWarning: Objective did not converge. You might want to increase the number of iterations. Fitting data with very small alpha may cause precision problems.\n",
      "  ConvergenceWarning)\n"
     ]
    },
    {
     "data": {
      "image/png": "[encoded data removed]",
      "text/plain": [
       "<Figure size 432x288 with 1 Axes>"
      ]
     },
     "metadata": {},
     "output_type": "display_data"
    },
    {
     "name": "stdout",
     "output_type": "stream",
     "text": [
      "Best score = -0.06869532204762119 Best alpha = 1e-10 Number of used features = 3\n",
      "=====\n",
      "0. Alpha = 1.0\n",
      "noisysine. Degree = 4. R2 score: -0.2865749008236371\n",
      "1. Alpha = 0.1\n",
      "noisysine. Degree = 4. R2 score: -0.25576322562068565\n",
      "2. Alpha = 0.01\n",
      "noisysine. Degree = 4. R2 score: -0.1072200014355289\n",
      "3. Alpha = 0.001\n",
      "noisysine. Degree = 4. R2 score: -0.08948495222113295\n",
      "4. Alpha = 0.0001\n",
      "noisysine. Degree = 4. R2 score: -0.0877236204165801\n",
      "5. Alpha = 1e-05\n",
      "noisysine. Degree = 4. R2 score: -0.08754760896727776\n",
      "6. Alpha = 1e-06\n",
      "noisysine. Degree = 4. R2 score: -0.08753000903970198\n",
      "7. Alpha = 1e-07\n",
      "noisysine. Degree = 4. R2 score: -0.0875282490591176\n",
      "8. Alpha = 1e-08\n",
      "noisysine. Degree = 4. R2 score: -0.08752807306113142\n",
      "9. Alpha = 1e-09\n",
      "noisysine. Degree = 4. R2 score: -0.087528055461356\n",
      "10. Alpha = 1e-10\n",
      "noisysine. Degree = 4. R2 score: -0.08752805370137429\n",
      "noisysine. Degree = 4. R2 score: -0.11497574710922964\n"
     ]
    },
    {
     "name": "stderr",
     "output_type": "stream",
     "text": [
      "/home/mikhail/anaconda3/envs/ml/lib/python3.6/site-packages/sklearn/linear_model/coordinate_descent.py:492: ConvergenceWarning: Objective did not converge. You might want to increase the number of iterations. Fitting data with very small alpha may cause precision problems.\n",
      "  ConvergenceWarning)\n",
      "/home/mikhail/anaconda3/envs/ml/lib/python3.6/site-packages/sklearn/linear_model/coordinate_descent.py:492: ConvergenceWarning: Objective did not converge. You might want to increase the number of iterations. Fitting data with very small alpha may cause precision problems.\n",
      "  ConvergenceWarning)\n",
      "/home/mikhail/anaconda3/envs/ml/lib/python3.6/site-packages/sklearn/linear_model/coordinate_descent.py:492: ConvergenceWarning: Objective did not converge. You might want to increase the number of iterations. Fitting data with very small alpha may cause precision problems.\n",
      "  ConvergenceWarning)\n",
      "/home/mikhail/anaconda3/envs/ml/lib/python3.6/site-packages/sklearn/linear_model/coordinate_descent.py:492: ConvergenceWarning: Objective did not converge. You might want to increase the number of iterations. Fitting data with very small alpha may cause precision problems.\n",
      "  ConvergenceWarning)\n",
      "/home/mikhail/anaconda3/envs/ml/lib/python3.6/site-packages/sklearn/linear_model/coordinate_descent.py:492: ConvergenceWarning: Objective did not converge. You might want to increase the number of iterations. Fitting data with very small alpha may cause precision problems.\n",
      "  ConvergenceWarning)\n",
      "/home/mikhail/anaconda3/envs/ml/lib/python3.6/site-packages/sklearn/linear_model/coordinate_descent.py:492: ConvergenceWarning: Objective did not converge. You might want to increase the number of iterations. Fitting data with very small alpha may cause precision problems.\n",
      "  ConvergenceWarning)\n",
      "/home/mikhail/anaconda3/envs/ml/lib/python3.6/site-packages/sklearn/linear_model/coordinate_descent.py:492: ConvergenceWarning: Objective did not converge. You might want to increase the number of iterations. Fitting data with very small alpha may cause precision problems.\n",
      "  ConvergenceWarning)\n",
      "/home/mikhail/anaconda3/envs/ml/lib/python3.6/site-packages/sklearn/linear_model/coordinate_descent.py:492: ConvergenceWarning: Objective did not converge. You might want to increase the number of iterations. Fitting data with very small alpha may cause precision problems.\n",
      "  ConvergenceWarning)\n",
      "/home/mikhail/anaconda3/envs/ml/lib/python3.6/site-packages/sklearn/linear_model/coordinate_descent.py:492: ConvergenceWarning: Objective did not converge. You might want to increase the number of iterations. Fitting data with very small alpha may cause precision problems.\n",
      "  ConvergenceWarning)\n",
      "/home/mikhail/anaconda3/envs/ml/lib/python3.6/site-packages/sklearn/linear_model/coordinate_descent.py:492: ConvergenceWarning: Objective did not converge. You might want to increase the number of iterations. Fitting data with very small alpha may cause precision problems.\n",
      "  ConvergenceWarning)\n",
      "/home/mikhail/anaconda3/envs/ml/lib/python3.6/site-packages/sklearn/linear_model/coordinate_descent.py:492: ConvergenceWarning: Objective did not converge. You might want to increase the number of iterations. Fitting data with very small alpha may cause precision problems.\n",
      "  ConvergenceWarning)\n",
      "/home/mikhail/anaconda3/envs/ml/lib/python3.6/site-packages/sklearn/linear_model/coordinate_descent.py:492: ConvergenceWarning: Objective did not converge. You might want to increase the number of iterations. Fitting data with very small alpha may cause precision problems.\n",
      "  ConvergenceWarning)\n"
     ]
    },
    {
     "data": {
      "image/png": "[encoded data removed]",
      "text/plain": [
       "<Figure size 432x288 with 1 Axes>"
      ]
     },
     "metadata": {},
     "output_type": "display_data"
    },
    {
     "name": "stdout",
     "output_type": "stream",
     "text": [
      "Best score = -0.08752805370137429 Best alpha = 1e-10 Number of used features = 4\n",
      "=====\n",
      "0. Alpha = 1.0\n",
      "noisysine. Degree = 5. R2 score: -0.1418842249326544\n",
      "1. Alpha = 0.1\n",
      "noisysine. Degree = 5. R2 score: 0.027833624467081153\n",
      "2. Alpha = 0.01\n",
      "noisysine. Degree = 5. R2 score: 0.18072219757965824\n",
      "3. Alpha = 0.001\n",
      "noisysine. Degree = 5. R2 score: 0.19655020262662937\n",
      "4. Alpha = 0.0001\n",
      "noisysine. Degree = 5. R2 score: 0.1981186986260255\n",
      "5. Alpha = 1e-05\n",
      "noisysine. Degree = 5. R2 score: 0.19827540583886527\n",
      "6. Alpha = 1e-06\n",
      "noisysine. Degree = 5. R2 score: 0.19829107513765964\n",
      "7. Alpha = 1e-07\n",
      "noisysine. Degree = 5. R2 score: 0.19829264205344188\n",
      "8. Alpha = 1e-08\n"
     ]
    },
    {
     "name": "stderr",
     "output_type": "stream",
     "text": [
      "/home/mikhail/anaconda3/envs/ml/lib/python3.6/site-packages/sklearn/linear_model/coordinate_descent.py:492: ConvergenceWarning: Objective did not converge. You might want to increase the number of iterations. Fitting data with very small alpha may cause precision problems.\n",
      "  ConvergenceWarning)\n",
      "/home/mikhail/anaconda3/envs/ml/lib/python3.6/site-packages/sklearn/linear_model/coordinate_descent.py:492: ConvergenceWarning: Objective did not converge. You might want to increase the number of iterations. Fitting data with very small alpha may cause precision problems.\n",
      "  ConvergenceWarning)\n",
      "/home/mikhail/anaconda3/envs/ml/lib/python3.6/site-packages/sklearn/linear_model/coordinate_descent.py:492: ConvergenceWarning: Objective did not converge. You might want to increase the number of iterations. Fitting data with very small alpha may cause precision problems.\n",
      "  ConvergenceWarning)\n",
      "/home/mikhail/anaconda3/envs/ml/lib/python3.6/site-packages/sklearn/linear_model/coordinate_descent.py:492: ConvergenceWarning: Objective did not converge. You might want to increase the number of iterations. Fitting data with very small alpha may cause precision problems.\n",
      "  ConvergenceWarning)\n",
      "/home/mikhail/anaconda3/envs/ml/lib/python3.6/site-packages/sklearn/linear_model/coordinate_descent.py:492: ConvergenceWarning: Objective did not converge. You might want to increase the number of iterations. Fitting data with very small alpha may cause precision problems.\n",
      "  ConvergenceWarning)\n",
      "/home/mikhail/anaconda3/envs/ml/lib/python3.6/site-packages/sklearn/linear_model/coordinate_descent.py:492: ConvergenceWarning: Objective did not converge. You might want to increase the number of iterations. Fitting data with very small alpha may cause precision problems.\n",
      "  ConvergenceWarning)\n",
      "/home/mikhail/anaconda3/envs/ml/lib/python3.6/site-packages/sklearn/linear_model/coordinate_descent.py:492: ConvergenceWarning: Objective did not converge. You might want to increase the number of iterations. Fitting data with very small alpha may cause precision problems.\n",
      "  ConvergenceWarning)\n",
      "/home/mikhail/anaconda3/envs/ml/lib/python3.6/site-packages/sklearn/linear_model/coordinate_descent.py:492: ConvergenceWarning: Objective did not converge. You might want to increase the number of iterations. Fitting data with very small alpha may cause precision problems.\n",
      "  ConvergenceWarning)\n",
      "/home/mikhail/anaconda3/envs/ml/lib/python3.6/site-packages/sklearn/linear_model/coordinate_descent.py:492: ConvergenceWarning: Objective did not converge. You might want to increase the number of iterations. Fitting data with very small alpha may cause precision problems.\n",
      "  ConvergenceWarning)\n"
     ]
    },
    {
     "name": "stdout",
     "output_type": "stream",
     "text": [
      "noisysine. Degree = 5. R2 score: 0.1982927987447365\n",
      "9. Alpha = 1e-09\n",
      "noisysine. Degree = 5. R2 score: 0.19829281441392665\n",
      "10. Alpha = 1e-10\n",
      "noisysine. Degree = 5. R2 score: 0.19829281598081716\n",
      "noisysine. Degree = 5. R2 score: -0.06651358592507495\n"
     ]
    },
    {
     "name": "stderr",
     "output_type": "stream",
     "text": [
      "/home/mikhail/anaconda3/envs/ml/lib/python3.6/site-packages/sklearn/linear_model/coordinate_descent.py:492: ConvergenceWarning: Objective did not converge. You might want to increase the number of iterations. Fitting data with very small alpha may cause precision problems.\n",
      "  ConvergenceWarning)\n",
      "/home/mikhail/anaconda3/envs/ml/lib/python3.6/site-packages/sklearn/linear_model/coordinate_descent.py:492: ConvergenceWarning: Objective did not converge. You might want to increase the number of iterations. Fitting data with very small alpha may cause precision problems.\n",
      "  ConvergenceWarning)\n",
      "/home/mikhail/anaconda3/envs/ml/lib/python3.6/site-packages/sklearn/linear_model/coordinate_descent.py:492: ConvergenceWarning: Objective did not converge. You might want to increase the number of iterations. Fitting data with very small alpha may cause precision problems.\n",
      "  ConvergenceWarning)\n"
     ]
    },
    {
     "data": {
      "image/png": "[encoded data removed]",
      "text/plain": [
       "<Figure size 432x288 with 1 Axes>"
      ]
     },
     "metadata": {},
     "output_type": "display_data"
    },
    {
     "name": "stdout",
     "output_type": "stream",
     "text": [
      "Best score = 0.19829281598081716 Best alpha = 1e-10 Number of used features = 5\n",
      "=====\n"
     ]
    }
   ],
   "source": [
    "noisysine_degrees = [1, 2, 3, 4, 5]\n",
    "for degree in noisysine_degrees:\n",
    "    optimize_lasso_regularization_parameter(noisysine_X_train, noisysine_X_val, noisysine_y_train, noisysine_y_val, \n",
    "                                       degree, True, \"noisysine.\")\n",
    "    print(\"=====\")"
   ]
  },
  {
   "cell_type": "code",
   "execution_count": 229,
   "metadata": {},
   "outputs": [
    {
     "name": "stdout",
     "output_type": "stream",
     "text": [
      "0. Alpha = 1.0\n",
      "hydrodynamics. Degree = 1. R2 score: 0.2579391541870054\n",
      "1. Alpha = 0.1\n",
      "hydrodynamics. Degree = 1. R2 score: 0.6155843211342705\n",
      "2. Alpha = 0.01\n",
      "hydrodynamics. Degree = 1. R2 score: 0.6094145835514884\n",
      "3. Alpha = 0.001\n",
      "hydrodynamics. Degree = 1. R2 score: 0.6063924987241844\n",
      "4. Alpha = 0.0001\n",
      "hydrodynamics. Degree = 1. R2 score: 0.6059806146368156\n",
      "5. Alpha = 1e-05\n",
      "hydrodynamics. Degree = 1. R2 score: 0.6059385892912025\n",
      "6. Alpha = 1e-06\n",
      "hydrodynamics. Degree = 1. R2 score: 0.6059343784423672\n",
      "7. Alpha = 1e-07\n",
      "hydrodynamics. Degree = 1. R2 score: 0.6059339572305658\n",
      "8. Alpha = 1e-08\n",
      "hydrodynamics. Degree = 1. R2 score: 0.6059339151095542\n",
      "9. Alpha = 1e-09\n",
      "hydrodynamics. Degree = 1. R2 score: 0.6059339108975396\n",
      "10. Alpha = 1e-10\n",
      "hydrodynamics. Degree = 1. R2 score: 0.6059339104763475\n",
      "hydrodynamics. Degree = 1. R2 score: 0.6155843211342705\n",
      "Best score = 0.6155843211342705 Best alpha = 0.1 Number of used features = 3\n",
      "=====\n",
      "0. Alpha = 1.0\n",
      "hydrodynamics. Degree = 2. R2 score: 0.6125393866220297\n",
      "1. Alpha = 0.1\n",
      "hydrodynamics. Degree = 2. R2 score: 0.6104013394862686\n",
      "2. Alpha = 0.01\n",
      "hydrodynamics. Degree = 2. R2 score: 0.8950023687849441\n",
      "3. Alpha = 0.001\n",
      "hydrodynamics. Degree = 2. R2 score: 0.9109704947576581\n",
      "4. Alpha = 0.0001\n",
      "hydrodynamics. Degree = 2. R2 score: 0.9087770452707122\n",
      "5. Alpha = 1e-05\n"
     ]
    },
    {
     "name": "stderr",
     "output_type": "stream",
     "text": [
      "/home/mikhail/anaconda3/envs/ml/lib/python3.6/site-packages/sklearn/linear_model/coordinate_descent.py:492: ConvergenceWarning: Objective did not converge. You might want to increase the number of iterations. Fitting data with very small alpha may cause precision problems.\n",
      "  ConvergenceWarning)\n",
      "/home/mikhail/anaconda3/envs/ml/lib/python3.6/site-packages/sklearn/linear_model/coordinate_descent.py:492: ConvergenceWarning: Objective did not converge. You might want to increase the number of iterations. Fitting data with very small alpha may cause precision problems.\n",
      "  ConvergenceWarning)\n",
      "/home/mikhail/anaconda3/envs/ml/lib/python3.6/site-packages/sklearn/linear_model/coordinate_descent.py:492: ConvergenceWarning: Objective did not converge. You might want to increase the number of iterations. Fitting data with very small alpha may cause precision problems.\n",
      "  ConvergenceWarning)\n",
      "/home/mikhail/anaconda3/envs/ml/lib/python3.6/site-packages/sklearn/linear_model/coordinate_descent.py:492: ConvergenceWarning: Objective did not converge. You might want to increase the number of iterations. Fitting data with very small alpha may cause precision problems.\n",
      "  ConvergenceWarning)\n"
     ]
    },
    {
     "name": "stdout",
     "output_type": "stream",
     "text": [
      "hydrodynamics. Degree = 2. R2 score: 0.9061073319480167\n",
      "6. Alpha = 1e-06\n",
      "hydrodynamics. Degree = 2. R2 score: 0.905459192414784\n",
      "7. Alpha = 1e-07\n",
      "hydrodynamics. Degree = 2. R2 score: 0.9053932829265343\n",
      "8. Alpha = 1e-08\n",
      "hydrodynamics. Degree = 2. R2 score: 0.9053866808980842\n",
      "9. Alpha = 1e-09\n",
      "hydrodynamics. Degree = 2. R2 score: 0.9053860205826701\n",
      "10. Alpha = 1e-10\n",
      "hydrodynamics. Degree = 2. R2 score: 0.9053859545500229\n",
      "hydrodynamics. Degree = 2. R2 score: 0.9110099003837228\n",
      "Best score = 0.9109704947576581 Best alpha = 0.001 Number of used features = 19\n",
      "=====\n"
     ]
    },
    {
     "name": "stderr",
     "output_type": "stream",
     "text": [
      "/home/mikhail/anaconda3/envs/ml/lib/python3.6/site-packages/sklearn/linear_model/coordinate_descent.py:492: ConvergenceWarning: Objective did not converge. You might want to increase the number of iterations. Fitting data with very small alpha may cause precision problems.\n",
      "  ConvergenceWarning)\n",
      "/home/mikhail/anaconda3/envs/ml/lib/python3.6/site-packages/sklearn/linear_model/coordinate_descent.py:492: ConvergenceWarning: Objective did not converge. You might want to increase the number of iterations. Fitting data with very small alpha may cause precision problems.\n",
      "  ConvergenceWarning)\n",
      "/home/mikhail/anaconda3/envs/ml/lib/python3.6/site-packages/sklearn/linear_model/coordinate_descent.py:492: ConvergenceWarning: Objective did not converge. You might want to increase the number of iterations. Fitting data with very small alpha may cause precision problems.\n",
      "  ConvergenceWarning)\n",
      "/home/mikhail/anaconda3/envs/ml/lib/python3.6/site-packages/sklearn/linear_model/coordinate_descent.py:492: ConvergenceWarning: Objective did not converge. You might want to increase the number of iterations. Fitting data with very small alpha may cause precision problems.\n",
      "  ConvergenceWarning)\n",
      "/home/mikhail/anaconda3/envs/ml/lib/python3.6/site-packages/sklearn/linear_model/coordinate_descent.py:492: ConvergenceWarning: Objective did not converge. You might want to increase the number of iterations. Fitting data with very small alpha may cause precision problems.\n",
      "  ConvergenceWarning)\n"
     ]
    }
   ],
   "source": [
    "hydrodynamics_degrees = [1, 2]\n",
    "for degree in hydrodynamics_degrees:\n",
    "    optimize_lasso_regularization_parameter(hydrodynamics_X_train, hydrodynamics_X_val, hydrodynamics_y_train, hydrodynamics_y_val, \n",
    "                                       degree, False, \"hydrodynamics.\")\n",
    "    print(\"=====\")"
   ]
  },
  {
   "cell_type": "code",
   "execution_count": null,
   "metadata": {},
   "outputs": [],
   "source": []
  }
 ],
 "metadata": {
  "kernelspec": {
   "display_name": "Python (ml)",
   "language": "python",
   "name": "ml"
  },
  "language_info": {
   "codemirror_mode": {
    "name": "ipython",
    "version": 3
   },
   "file_extension": ".py",
   "mimetype": "text/x-python",
   "name": "python",
   "nbconvert_exporter": "python",
   "pygments_lexer": "ipython3",
   "version": "3.6.8"
  }
 },
 "nbformat": 4,
 "nbformat_minor": 2
}
