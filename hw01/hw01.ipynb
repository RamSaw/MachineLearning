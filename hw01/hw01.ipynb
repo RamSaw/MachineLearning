{
 "cells": [
  {
   "cell_type": "markdown",
   "metadata": {
    "collapsed": true,
    "pycharm": {}
   },
   "source": [
    "# HW01\n",
    "# Student: Pravilov Mikhail"
   ]
  },
  {
   "cell_type": "code",
   "execution_count": 106,
   "metadata": {},
   "outputs": [],
   "source": [
    "import numpy as np"
   ]
  },
  {
   "cell_type": "markdown",
   "metadata": {},
   "source": [
    "1. (8 points) Implement the kNN algorithm and calculate Leave-one-out error on both datasets for 1 to 10 neighbors."
   ]
  },
  {
   "cell_type": "markdown",
   "metadata": {},
   "source": [
    "Firsly, let's load our dataset."
   ]
  },
  {
   "cell_type": "code",
   "execution_count": 107,
   "metadata": {},
   "outputs": [],
   "source": [
    "import pandas as pd\n",
    "dataset_root=\"../Datasets/\""
   ]
  },
  {
   "cell_type": "code",
   "execution_count": 173,
   "metadata": {},
   "outputs": [
    {
     "name": "stdout",
     "output_type": "stream",
     "text": [
      "spam datapoints shape: (4601, 57)\n",
      "spam labels shape: (4601,)\n"
     ]
    }
   ],
   "source": [
    "# spam.csv loading\n",
    "spam_path = dataset_root + 'spam.csv'\n",
    "spam_data = pd.read_csv(spam_path)\n",
    "spam_data = spam_data.values\n",
    "spam_X = spam_data[:, 0:-1].astype('float64')\n",
    "spam_y = spam_data[:, -1]\n",
    "print(\"spam datapoints shape: \" + str(spam_X.shape))\n",
    "print(\"spam labels shape: \" + str(spam_y.shape))"
   ]
  },
  {
   "cell_type": "code",
   "execution_count": 174,
   "metadata": {},
   "outputs": [
    {
     "name": "stdout",
     "output_type": "stream",
     "text": [
      "cancer datapoints shape: (569, 30)\n",
      "cancer labels shape: (569,)\n"
     ]
    }
   ],
   "source": [
    "# cancer.csv loading\n",
    "cancer_path = dataset_root + 'cancer.csv'\n",
    "cancer_data = pd.read_csv(cancer_path)\n",
    "cancer_data = cancer_data.values\n",
    "cancer_X = cancer_data[:, 1:].astype('float64')\n",
    "cancer_y = cancer_data[:, 0]\n",
    "print(\"cancer datapoints shape: \" + str(cancer_X.shape))\n",
    "print(\"cancer labels shape: \" + str(cancer_y.shape))"
   ]
  },
  {
   "cell_type": "markdown",
   "metadata": {
    "pycharm": {
     "metadata": false,
     "name": "#%% \n"
    }
   },
   "source": [
    "Then let's see what sklearn gives us. This will be a baseline to check that our implementation of kNN is correct."
   ]
  },
  {
   "cell_type": "code",
   "execution_count": 148,
   "metadata": {},
   "outputs": [],
   "source": [
    "from sklearn.model_selection import LeaveOneOut\n",
    "from sklearn.neighbors import KNeighborsClassifier\n",
    "k_global = 10\n",
    "kNNs = [KNeighborsClassifier(n_neighbors=i) for i in range(1, k_global + 1)]"
   ]
  },
  {
   "cell_type": "markdown",
   "metadata": {},
   "source": [
    "Leave one out error is N-fold cross validation, where N is the number of datapoints"
   ]
  },
  {
   "cell_type": "code",
   "execution_count": 152,
   "metadata": {},
   "outputs": [],
   "source": [
    "def calculate_loo_error_for_classifiers(classifiers, X, y):\n",
    "    from sklearn.model_selection import cross_val_score, KFold\n",
    "    return [1 - cross_val_score(skf, X=X, y=y, cv=KFold(n_splits=y.shape[0]), n_jobs=-1).mean() for skf in classifiers]"
   ]
  },
  {
   "cell_type": "code",
   "execution_count": 153,
   "metadata": {},
   "outputs": [
    {
     "name": "stdout",
     "output_type": "stream",
     "text": [
      "Cancer dataset\n",
      "<num of neighbours> <loo error>\n",
      "1 0.08435852372583474\n",
      "2 0.0773286467486819\n",
      "3 0.07381370826010547\n",
      "4 0.07381370826010547\n",
      "5 0.06678383128295251\n",
      "6 0.07029876977152905\n",
      "7 0.06854130052724072\n",
      "8 0.07029876977152905\n",
      "9 0.06678383128295251\n",
      "10 0.07029876977152905\n"
     ]
    }
   ],
   "source": [
    "# cancer dataset\n",
    "print(\"Cancer dataset\")\n",
    "print(\"<num of neighbours> <loo error>\")\n",
    "cancer_sklearn_loo = calculate_loo_error_for_classifiers(kNNs, cancer_X, cancer_y)\n",
    "for k, loo_error in enumerate(cancer_sklearn_loo):\n",
    "    print(str(k + 1) + \" \" + str(loo_error))"
   ]
  },
  {
   "cell_type": "code",
   "execution_count": 154,
   "metadata": {},
   "outputs": [
    {
     "name": "stdout",
     "output_type": "stream",
     "text": [
      "Spam dataset\n",
      "<num of neighbours> <loo error>\n",
      "1 0.16952836339926103\n",
      "2 0.19061073679634866\n",
      "3 0.18539447946098675\n",
      "4 0.19300152140838944\n",
      "5 0.18582916757226686\n",
      "6 0.20039121930015213\n",
      "7 0.19582699413171045\n",
      "8 0.20104325146707236\n",
      "9 0.20278200391219303\n",
      "10 0.2021299717452728\n"
     ]
    }
   ],
   "source": [
    "# spam dataset\n",
    "print(\"Spam dataset\")\n",
    "print(\"<num of neighbours> <loo error>\")\n",
    "spam_sklearn_loo = calculate_loo_error_for_classifiers(kNNs, spam_X, spam_y)\n",
    "for k, loo_error in enumerate(spam_sklearn_loo):\n",
    "    print(str(k + 1) + \" \" + str(loo_error))"
   ]
  },
  {
   "cell_type": "markdown",
   "metadata": {},
   "source": [
    "Now let's write our own kNN method."
   ]
  },
  {
   "cell_type": "code",
   "execution_count": 155,
   "metadata": {},
   "outputs": [],
   "source": [
    "def get_nearest(k, point_index, X):\n",
    "    return np.argsort(np.array([np.linalg.norm(X[point_index]-x) for x in X]))[1:k + 1]\n",
    "\n",
    "def generate_nearest(X, k):\n",
    "    return np.array([get_nearest(k, i, X) for i in range(X.shape[0])])\n",
    "\n",
    "def get_class(point_index, nearest_matrix, y, k):\n",
    "    (nearest_classes, counts) = np.unique(y[nearest_matrix[point_index]][:k], return_counts=True)\n",
    "    majority_index = np.argmax(counts) \n",
    "    return nearest_classes[majority_index]    "
   ]
  },
  {
   "cell_type": "code",
   "execution_count": 156,
   "metadata": {},
   "outputs": [],
   "source": [
    "def leave_one_out(nearest_matrix, y, k):\n",
    "    return np.mean([get_class(y_index, nearest_matrix, y, k) != y[y_index] for y_index in range(y.shape[0])])\n",
    "\n",
    "def leave_one_out_for_all_before_k(X, y, k):\n",
    "    nearest_matrix = generate_nearest(X, k)\n",
    "    return [leave_one_out(nearest_matrix, y, i) for i in range(1, k + 1)]"
   ]
  },
  {
   "cell_type": "code",
   "execution_count": 157,
   "metadata": {},
   "outputs": [
    {
     "name": "stdout",
     "output_type": "stream",
     "text": [
      "Cancer dataset\n",
      "<num of neighbours> <loo error>\n",
      "1 0.0843585237258348\n",
      "2 0.0773286467486819\n",
      "3 0.07381370826010544\n",
      "4 0.07381370826010544\n",
      "5 0.06678383128295255\n",
      "6 0.070298769771529\n",
      "7 0.06854130052724078\n",
      "8 0.070298769771529\n",
      "9 0.06678383128295255\n",
      "10 0.070298769771529\n"
     ]
    }
   ],
   "source": [
    "# cancer dataset\n",
    "print(\"Cancer dataset\")\n",
    "print(\"<num of neighbours> <loo error>\") \n",
    "cancer_loo = leave_one_out_for_all_before_k(cancer_X, cancer_y, k_global)\n",
    "for k, loo_error in enumerate(cancer_loo):\n",
    "    print(str(k + 1) + \" \" + str(loo_error))"
   ]
  },
  {
   "cell_type": "code",
   "execution_count": 158,
   "metadata": {},
   "outputs": [
    {
     "name": "stdout",
     "output_type": "stream",
     "text": [
      "Spam dataset\n",
      "<num of neighbours> <loo error>\n",
      "1 0.16865898717670072\n",
      "2 0.19039339274070854\n",
      "3 0.18452510323842644\n",
      "4 0.19213214518582916\n",
      "5 0.18539447946098675\n",
      "6 0.199956531188872\n",
      "7 0.1958269941317105\n",
      "8 0.2010432514670724\n",
      "9 0.20256465985655292\n",
      "10 0.2019126276896327\n"
     ]
    }
   ],
   "source": [
    "# spam dataset\n",
    "print(\"Spam dataset\")\n",
    "print(\"<num of neighbours> <loo error>\") \n",
    "spam_loo = leave_one_out_for_all_before_k(spam_X, spam_y, k_global)\n",
    "for k, loo_error in enumerate(spam_loo):\n",
    "    print(str(k + 1) + \" \" + str(loo_error))"
   ]
  },
  {
   "cell_type": "code",
   "execution_count": 162,
   "metadata": {},
   "outputs": [
    {
     "name": "stdout",
     "output_type": "stream",
     "text": [
      "Cancer dataset. my - sklearn\n",
      "[-5.55111512e-17  0.00000000e+00  2.77555756e-17  2.77555756e-17\n",
      " -4.16333634e-17  4.16333634e-17 -5.55111512e-17  4.16333634e-17\n",
      " -4.16333634e-17  4.16333634e-17]\n"
     ]
    }
   ],
   "source": [
    "print(\"Cancer dataset. my - sklearn\")\n",
    "print(np.array(cancer_sklearn_loo) - np.array(cancer_loo))"
   ]
  },
  {
   "cell_type": "code",
   "execution_count": 163,
   "metadata": {},
   "outputs": [
    {
     "name": "stdout",
     "output_type": "stream",
     "text": [
      "Spam dataset. my - sklearn\n",
      "[ 8.69376223e-04  2.17344056e-04  8.69376223e-04  8.69376223e-04\n",
      "  4.34688111e-04  4.34688111e-04 -5.55111512e-17 -2.77555756e-17\n",
      "  2.17344056e-04  2.17344056e-04]\n"
     ]
    }
   ],
   "source": [
    "print(\"Spam dataset. my - sklearn\")\n",
    "print(np.array(spam_sklearn_loo) - np.array(spam_loo))"
   ]
  },
  {
   "cell_type": "markdown",
   "metadata": {},
   "source": [
    "As you can see, the error is small for the cancer dataset. For spam dataset it is bigger, but I think it is acceptable and does not mean that there is a mistake in my implementation. This is connected probably with the fact that spam dataset is larger and accumulates the error in the distance computations. It is also likely that in the spam dataset classes are quite close to each other, hence more errors in the selection of k neighbors."
   ]
  },
  {
   "cell_type": "code",
   "execution_count": 166,
   "metadata": {},
   "outputs": [
    {
     "name": "stdout",
     "output_type": "stream",
     "text": [
      "Best k for cancer dataset is 5 with loo error = 0.06678383128295255\n"
     ]
    }
   ],
   "source": [
    "cancer_best_k = np.argmin(cancer_loo) + 1\n",
    "print(\"Best k for cancer dataset is \" + str(cancer_best_k) + \" with loo error = \" + str(cancer_loo[cancer_best_k - 1]))"
   ]
  },
  {
   "cell_type": "code",
   "execution_count": 167,
   "metadata": {},
   "outputs": [
    {
     "name": "stdout",
     "output_type": "stream",
     "text": [
      "Best k for spam dataset is 1 with loo error = 0.16865898717670072\n"
     ]
    }
   ],
   "source": [
    "spam_best_k = np.argmin(spam_loo) + 1\n",
    "print(\"Best k for spam dataset is \" + str(spam_best_k) + \" with loo error = \" + str(spam_loo[spam_best_k - 1]))"
   ]
  },
  {
   "cell_type": "markdown",
   "metadata": {},
   "source": [
    "If classes are often close to each other then taking big k most likely is bad idea. In the spam dataset this case occurs and best k = 1."
   ]
  },
  {
   "cell_type": "markdown",
   "metadata": {},
   "source": [
    "\"(2) Scale all features with MinMax scaler to [0,1] and calculate Leave-one-out error on both datasets for 1 to 10 neighbors.\""
   ]
  },
  {
   "cell_type": "code",
   "execution_count": 177,
   "metadata": {},
   "outputs": [],
   "source": [
    "from sklearn.preprocessing import MinMaxScaler\n",
    "scaler = MinMaxScaler()\n",
    "\n",
    "def scale_min_max(X, min_val=0, max_val=1):\n",
    "    return ((X - X.min(axis=0)) / (X.max(axis=0) - X.min(axis=0))) * (max_val - min_val) + min_val"
   ]
  },
  {
   "cell_type": "code",
   "execution_count": 182,
   "metadata": {},
   "outputs": [
    {
     "name": "stdout",
     "output_type": "stream",
     "text": [
      "Max diff in features between my and sklearn implementation 2.220446049250313e-16\n"
     ]
    }
   ],
   "source": [
    "cancer_scaled_X = scale_min_max(cancer_X)\n",
    "scaler.fit(cancer_X)\n",
    "cancer_sklearn_scaled_X = scaler.transform(cancer_X)\n",
    "max_diff = np.max(np.abs(cancer_scaled_X - cancer_sklearn_scaled_X))\n",
    "print(\"Max diff in features between my and sklearn implementation \" + str(max_diff))"
   ]
  },
  {
   "cell_type": "code",
   "execution_count": 183,
   "metadata": {},
   "outputs": [
    {
     "name": "stdout",
     "output_type": "stream",
     "text": [
      "Max diff in features between my and sklearn implementation 1.1102230246251565e-16\n"
     ]
    }
   ],
   "source": [
    "spam_scaled_X = scale_min_max(spam_X)\n",
    "scaler.fit(spam_X)\n",
    "spam_sklearn_scaled_X = scaler.transform(spam_X)\n",
    "max_diff = np.max(np.abs(spam_scaled_X - spam_sklearn_scaled_X))\n",
    "print(\"Max diff in features between my and sklearn implementation \" + str(max_diff))"
   ]
  },
  {
   "cell_type": "markdown",
   "metadata": {},
   "source": [
    "Scaler implemented correctly because $10^{-16}$ it is the highest precision of float64."
   ]
  },
  {
   "cell_type": "code",
   "execution_count": 187,
   "metadata": {},
   "outputs": [
    {
     "name": "stdout",
     "output_type": "stream",
     "text": [
      "Cancer dataset\n",
      "<num of neighbours> <loo error>\n",
      "1 0.04745166959578207\n",
      "2 0.03866432337434095\n",
      "3 0.029876977152899824\n",
      "4 0.028119507908611598\n",
      "5 0.033391915641476276\n",
      "6 0.029876977152899824\n",
      "7 0.029876977152899824\n",
      "8 0.03163444639718805\n",
      "9 0.029876977152899824\n",
      "10 0.029876977152899824\n"
     ]
    }
   ],
   "source": [
    "# cancer dataset\n",
    "print(\"Cancer dataset\")\n",
    "print(\"<num of neighbours> <loo error>\") \n",
    "cancer_scaled_loo = leave_one_out_for_all_before_k(cancer_scaled_X, cancer_y, k_global)\n",
    "for k, loo_error in enumerate(cancer_scaled_loo):\n",
    "    print(str(k + 1) + \" \" + str(loo_error))"
   ]
  },
  {
   "cell_type": "code",
   "execution_count": 189,
   "metadata": {},
   "outputs": [
    {
     "name": "stdout",
     "output_type": "stream",
     "text": [
      "Spam dataset\n",
      "<num of neighbours> <loo error>\n",
      "1 0.0869376222560313\n",
      "2 0.10106498587263639\n",
      "3 0.09497935231471419\n",
      "4 0.10149967398391654\n",
      "5 0.09497935231471419\n",
      "6 0.10258639426211694\n",
      "7 0.09932623342751576\n",
      "8 0.10215170615083677\n",
      "9 0.1019343620951967\n",
      "10 0.10519452292979788\n"
     ]
    }
   ],
   "source": [
    "# spam dataset\n",
    "print(\"Spam dataset\")\n",
    "print(\"<num of neighbours> <loo error>\") \n",
    "spam_scaled_loo = leave_one_out_for_all_before_k(spam_scaled_X, spam_y, k_global)\n",
    "for k, loo_error in enumerate(spam_scaled_loo):\n",
    "    print(str(k + 1) + \" \" + str(loo_error))"
   ]
  },
  {
   "cell_type": "code",
   "execution_count": 190,
   "metadata": {},
   "outputs": [
    {
     "name": "stdout",
     "output_type": "stream",
     "text": [
      "Best k for cancer dataset is 4 with loo error = 0.028119507908611598\n"
     ]
    }
   ],
   "source": [
    "cancer_scaled_best_k = np.argmin(cancer_scaled_loo) + 1\n",
    "print(\"Best k for cancer dataset is \" + str(cancer_scaled_best_k) + \" with loo error = \" + str(cancer_scaled_loo[cancer_best_k - 1]))"
   ]
  },
  {
   "cell_type": "code",
   "execution_count": 191,
   "metadata": {},
   "outputs": [
    {
     "name": "stdout",
     "output_type": "stream",
     "text": [
      "Best k for spam dataset is 1 with loo error = 0.0869376222560313\n"
     ]
    }
   ],
   "source": [
    "spam_scaled_best_k = np.argmin(spam_scaled_loo) + 1\n",
    "print(\"Best k for spam dataset is \" + str(spam_scaled_best_k) + \" with loo error = \" + str(spam_scaled_loo[spam_best_k - 1]))"
   ]
  },
  {
   "cell_type": "markdown",
   "metadata": {},
   "source": [
    "We can see that results after scaling are better approximately in 2 times, not surprisingly."
   ]
  }
 ],
 "metadata": {
  "kernelspec": {
   "display_name": "Python (ml_homeworks)",
   "language": "python",
   "name": "ml_homeworks"
  },
  "language_info": {
   "codemirror_mode": {
    "name": "ipython",
    "version": 3
   },
   "file_extension": ".py",
   "mimetype": "text/x-python",
   "name": "python",
   "nbconvert_exporter": "python",
   "pygments_lexer": "ipython3",
   "version": "3.7.0"
  }
 },
 "nbformat": 4,
 "nbformat_minor": 1
}
